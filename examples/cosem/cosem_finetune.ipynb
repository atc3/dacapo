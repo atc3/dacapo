{
 "cells": [
  {
   "cell_type": "code",
   "execution_count": 2,
   "metadata": {},
   "outputs": [
    {
     "name": "stdout",
     "output_type": "stream",
     "text": [
      "Creating FileConfigStore:\n",
      "\tpath: /groups/scicompsoft/home/zouinkhim/dacapo/configs\n"
     ]
    }
   ],
   "source": [
    "from dacapo.store.create_store import create_config_store\n",
    "\n",
    "config_store = create_config_store()"
   ]
  },
  {
   "cell_type": "code",
   "execution_count": 3,
   "metadata": {},
   "outputs": [],
   "source": [
    "# config_store.retrieve_datasplit_config_names()\n",
    "# config_store.retrieve_task_config_names()\n",
    "# config_store.retrieve_architecture_config_names()\n",
    "# config_store.retrieve_trainer_config_names()\n",
    "# config_store.retrieve_run_config_names()"
   ]
  },
  {
   "cell_type": "code",
   "execution_count": 4,
   "metadata": {},
   "outputs": [],
   "source": [
    "datasplit_config = config_store.retrieve_datasplit_config(\"cosem_example_semantic_mito_4nm\")\n",
    "task_config = config_store.retrieve_task_config(\"cosem_distance_task_4nm\")\n",
    "architecture_config = config_store.retrieve_architecture_config(\"upsample_unet\")\n",
    "trainer_config = config_store.retrieve_trainer_config(\"cosem_finetune\")"
   ]
  },
  {
   "cell_type": "code",
   "execution_count": 5,
   "metadata": {},
   "outputs": [
    {
     "name": "stdout",
     "output_type": "stream",
     "text": [
      "Neuroglancer link: http://h10u12.int.janelia.org:21785/v/f2cebdf760ce1844f43003a61d3ac023e59e6361/\n"
     ]
    }
   ],
   "source": [
    "\n",
    "datasplit = datasplit_config.datasplit_type(datasplit_config)\n",
    "viewer = datasplit._neuroglancer()"
   ]
  },
  {
   "cell_type": "code",
   "execution_count": 6,
   "metadata": {},
   "outputs": [],
   "source": [
    "from dacapo.experiments.starts import CosemStartConfig\n",
    "start_config = CosemStartConfig(\"setup04\", \"1820500\")"
   ]
  },
  {
   "cell_type": "code",
   "execution_count": 10,
   "metadata": {},
   "outputs": [],
   "source": [
    "from dacapo.experiments import RunConfig\n",
    "\n",
    "run_config = RunConfig(\n",
    "        name=\"cosem_distance_run_4nm_finetune\",\n",
    "        datasplit_config=datasplit_config,\n",
    "        task_config=task_config,\n",
    "        architecture_config=architecture_config,\n",
    "        trainer_config=trainer_config,\n",
    "        num_iterations=2000,\n",
    "        validation_interval=500,\n",
    "        repetition=0,\n",
    "        start_config=start_config,\n",
    "    )\n",
    "# config_store.delete_run_config(run_config.name)\n",
    "config_store.store_run_config(run_config)"
   ]
  },
  {
   "cell_type": "code",
   "execution_count": null,
   "metadata": {},
   "outputs": [],
   "source": []
  },
  {
   "cell_type": "code",
   "execution_count": 29,
   "metadata": {},
   "outputs": [],
   "source": [
    "# visualize "
   ]
  },
  {
   "cell_type": "code",
   "execution_count": 30,
   "metadata": {},
   "outputs": [
    {
     "name": "stderr",
     "output_type": "stream",
     "text": [
      "WARNING:/groups/cellmap/cellmap/zouinkhim/dacapo_release/dacapo/dacapo/experiments/starts/cosem_start.py:Starter model resolution: input [8 8 8] output [4 4 4], Make sure to set the correct resolution for the input data.\n",
      "WARNING:/groups/cellmap/cellmap/zouinkhim/dacapo_release/dacapo/dacapo/experiments/starts/start.py:loading weights from run setup04, criterion: 1820500, old_head ['ecs', 'pm', 'mito', 'mito_mem', 'ves', 'ves_mem', 'endo', 'endo_mem', 'er', 'er_mem', 'eres', 'nuc', 'mt', 'mt_out'], new_head: ['mito']\n",
      "WARNING:/groups/cellmap/cellmap/zouinkhim/dacapo_release/dacapo/dacapo/experiments/starts/start.py:matching heads from run setup04, criterion: 1820500\n",
      "WARNING:/groups/cellmap/cellmap/zouinkhim/dacapo_release/dacapo/dacapo/experiments/starts/start.py:old head: ['ecs', 'pm', 'mito', 'mito_mem', 'ves', 'ves_mem', 'endo', 'endo_mem', 'er', 'er_mem', 'eres', 'nuc', 'mt', 'mt_out']\n",
      "WARNING:/groups/cellmap/cellmap/zouinkhim/dacapo_release/dacapo/dacapo/experiments/starts/start.py:new head: ['mito']\n"
     ]
    },
    {
     "name": "stdout",
     "output_type": "stream",
     "text": [
      "Not loading weights for setup04.\n",
      "Creating local weights store in directory /groups/scicompsoft/home/zouinkhim/dacapo\n",
      "Creating local weights store in directory /groups/scicompsoft/home/zouinkhim/dacapo\n"
     ]
    },
    {
     "name": "stderr",
     "output_type": "stream",
     "text": [
      "WARNING:/groups/cellmap/cellmap/zouinkhim/dacapo_release/dacapo/dacapo/experiments/starts/start.py:Unable to load model in strict mode. Loading flexibly.\n",
      "WARNING:/groups/cellmap/cellmap/zouinkhim/dacapo_release/dacapo/dacapo/experiments/starts/start.py:matching head for mito.\n",
      "WARNING:/groups/cellmap/cellmap/zouinkhim/dacapo_release/dacapo/dacapo/experiments/starts/start.py:matched head for mito.\n"
     ]
    }
   ],
   "source": [
    "from dacapo.experiments.run import Run\n",
    "run = Run(run_config)"
   ]
  },
  {
   "cell_type": "code",
   "execution_count": 31,
   "metadata": {},
   "outputs": [
    {
     "name": "stdout",
     "output_type": "stream",
     "text": [
      "Predicting with input size (4608, 4608, 4608), output size (1696, 1696, 1696)\n",
      "Total input ROI: [4544:11456, 544:5456, 4544:9456] (6912, 4912, 4912), output ROI: [6000:10000, 2000:4000, 6000:8000] (4000, 2000, 2000)\n",
      "Running blockwise prediction with worker_file:  /groups/cellmap/cellmap/zouinkhim/dacapo_release/dacapo/dacapo/blockwise/predict_worker.py\n",
      "Defining worker with command:  ['/groups/scicompsoft/home/zouinkhim/miniconda3/envs/dacapo_11/bin/python', '/groups/cellmap/cellmap/zouinkhim/dacapo_release/dacapo/dacapo/blockwise/predict_worker.py', 'start-worker', '--run-name', 'cosem_distance_run_4nm_finetune', '--input_container', '/misc/public/dacapo_learnathon/jrc_hela-2.zarr', '--input_dataset', 'recon-1/em/fibsem-uint8/s2', '--output_container', '/nrs/cellmap/zouinkhim/predictions/test_predict/hela2.zarr', '--output_dataset', 'prediction_cosem_distance_run_4nm_finetune_None']\n",
      "Running blockwise with worker_file:  /groups/cellmap/cellmap/zouinkhim/dacapo_release/dacapo/dacapo/blockwise/predict_worker.py\n",
      "Using compute context: LocalTorch(_device=None, oom_limit=4.2)\n"
     ]
    },
    {
     "data": {
      "application/json": {
       "ascii": false,
       "bar_format": null,
       "colour": null,
       "elapsed": 0.0072765350341796875,
       "initial": 0,
       "n": 0,
       "ncols": null,
       "nrows": null,
       "postfix": null,
       "prefix": "predict_worker2024-03-20_17-35-30 ▶",
       "rate": null,
       "total": 2,
       "unit": "blocks",
       "unit_divisor": 1000,
       "unit_scale": false
      },
      "application/vnd.jupyter.widget-view+json": {
       "model_id": "a15ad763962d47e2a356fa984c85fc0c",
       "version_major": 2,
       "version_minor": 0
      },
      "text/plain": [
       "predict_worker2024-03-20_17-35-30 ▶:   0%|          | 0/2 [00:00<?, ?blocks/s]"
      ]
     },
     "metadata": {},
     "output_type": "display_data"
    },
    {
     "name": "stdout",
     "output_type": "stream",
     "text": [
      "\n",
      "Execution Summary\n",
      "-----------------\n",
      "\n",
      "  Task predict_worker2024-03-20_17-35-30:\n",
      "\n",
      "    num blocks : 2\n",
      "    completed ✔: 2 (skipped 0)\n",
      "    failed    ✗: 0\n",
      "    orphaned  ∅: 0\n",
      "\n",
      "    all blocks processed successfully\n",
      "Done predicting.\n"
     ]
    }
   ],
   "source": [
    "from dacapo.predict import predict\n",
    "input_container = \"/misc/public/dacapo_learnathon/jrc_hela-2.zarr\"\n",
    "input_dataset = \"recon-1/em/fibsem-uint8/s2\"\n",
    "test_out_path = \"/nrs/cellmap/zouinkhim/predictions/test_predict/hela2.zarr\"\n",
    "out_roi = \"[6000:10000,2000:4000,6000:8000]\"\n",
    "\n",
    "predict(\n",
    "    \"cosem_distance_run_4nm_finetune\",\n",
    "    None,\n",
    "    input_container,\n",
    "    input_dataset,\n",
    "    test_out_path,\n",
    "    num_workers=1,\n",
    "    overwrite=False,\n",
    "    output_dtype=\"float32\",\n",
    "    output_roi=out_roi,\n",
    ")"
   ]
  },
  {
   "cell_type": "code",
   "execution_count": null,
   "metadata": {},
   "outputs": [],
   "source": []
  }
 ],
 "metadata": {
  "kernelspec": {
   "display_name": "dacapo_11",
   "language": "python",
   "name": "python3"
  },
  "language_info": {
   "codemirror_mode": {
    "name": "ipython",
    "version": 3
   },
   "file_extension": ".py",
   "mimetype": "text/x-python",
   "name": "python",
   "nbconvert_exporter": "python",
   "pygments_lexer": "ipython3",
   "version": "3.11.7"
  }
 },
 "nbformat": 4,
 "nbformat_minor": 2
}
